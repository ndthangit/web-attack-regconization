{
 "cells": [
  {
   "cell_type": "code",
   "id": "initial_id",
   "metadata": {
    "collapsed": true,
    "ExecuteTime": {
     "end_time": "2025-09-20T07:08:15.425845Z",
     "start_time": "2025-09-20T07:08:14.077568Z"
    }
   },
   "source": [
    "import pandas as pd\n",
    "import numpy as np\n",
    "from sqlalchemy import create_engine, text\n",
    "from sqlalchemy.exc import SQLAlchemyError\n",
    "import datetime\n",
    "import urllib.parse\n",
    "\n",
    "# Thông tin kết nối PostgreSQL\n",
    "DB_CONFIG = {\n",
    "    'host': 'localhost',\n",
    "    'database': 'processed',\n",
    "    'user': 'airflow',\n",
    "    'password': 'airflow',\n",
    "    'port': '5432'\n",
    "}\n",
    "\n",
    "def create_connection():\n",
    "    \"\"\"Tạo kết nối đến PostgreSQL\"\"\"\n",
    "    try:\n",
    "        # Properly quote the password to handle special characters like '#'\n",
    "        quoted_password = urllib.parse.quote_plus(DB_CONFIG['password'])\n",
    "        connection_string = f\"postgresql+psycopg2://{DB_CONFIG['user']}:{quoted_password}@{DB_CONFIG['host']}:{DB_CONFIG['port']}/{DB_CONFIG['database']}\"\n",
    "        engine = create_engine(connection_string)\n",
    "        return engine\n",
    "    except Exception as e:\n",
    "        print(f\"Lỗi kết nối: {e}\")\n",
    "        return None\n",
    "\n",
    "engine = create_connection()\n",
    "if engine is None:\n",
    "    print(\"Không thể kết nối đến cơ sở dữ liệu.\")\n",
    "else:\n",
    "    print(\"Kết nối thành công đến cơ sở dữ liệu PostgreSQL.\")"
   ],
   "outputs": [
    {
     "name": "stdout",
     "output_type": "stream",
     "text": [
      "Kết nối thành công đến cơ sở dữ liệu PostgreSQL.\n"
     ]
    }
   ],
   "execution_count": 1
  },
  {
   "metadata": {
    "ExecuteTime": {
     "end_time": "2025-09-20T07:45:52.446227Z",
     "start_time": "2025-09-20T07:45:52.397093Z"
    }
   },
   "cell_type": "code",
   "source": [
    "import pandas as pd\n",
    "pd.options.mode.copy_on_write = True\n",
    "from pydantic_settings import BaseSettings\n",
    "from dotenv import load_dotenv\n",
    "import os\n",
    "\n",
    "# Load biến môi trường từ file .env\n",
    "load_dotenv()\n",
    "\n",
    "class MlflowSettings(BaseSettings):\n",
    "    MLFLOW_TRACKING_URI: str = os.getenv(\"MLFLOW_TRACKING_URI\")"
   ],
   "id": "40f73bb76be44f77",
   "outputs": [],
   "execution_count": 5
  },
  {
   "metadata": {
    "ExecuteTime": {
     "end_time": "2025-09-20T07:57:06.147863Z",
     "start_time": "2025-09-20T07:52:17.499229Z"
    }
   },
   "cell_type": "code",
   "source": [
    "import mlflow\n",
    "from mlflow.transformers import log_model\n",
    "from transformers import DistilBertTokenizer, DistilBertModel\n",
    "import torch\n",
    "\n",
    "class DistilBERTFeatureExtractor:\n",
    "    def __init__(self, model_name=\"distilbert-base-uncased\"):\n",
    "        self.device = torch.device('cuda' if torch.cuda.is_available() else 'cpu')\n",
    "        self.tokenizer = DistilBertTokenizer.from_pretrained(model_name)\n",
    "        self.model = DistilBertModel.from_pretrained(model_name).to(self.device)\n",
    "        self.model.eval()\n",
    "\n",
    "    def extract_features(self, text):\n",
    "        \"\"\"Trích xuất đặc trưng từ DistilBERT\"\"\"\n",
    "        inputs = self.tokenizer(text, return_tensors=\"pt\", truncation=True, padding=True, max_length=512)\n",
    "        inputs = {key: value.to(self.device) for key, value in inputs.items()}\n",
    "\n",
    "        with torch.no_grad():\n",
    "            outputs = self.model(**inputs)\n",
    "\n",
    "        sentence_embedding = outputs.last_hidden_state[:, 0, :].detach().cpu().numpy().squeeze()\n",
    "        return sentence_embedding\n",
    "\n",
    "tracking = MlflowSettings()\n",
    "mlflow.set_tracking_uri(tracking.MLFLOW_TRACKING_URI)\n",
    "# Tạo model và tokenizer\n",
    "model_name = \"distilbert-base-uncased\"\n",
    "model = DistilBertModel.from_pretrained(model_name)\n",
    "tokenizer = DistilBertTokenizer.from_pretrained(model_name)\n",
    "\n",
    "# Lưu model vào MLflow\n",
    "with mlflow.start_run():\n",
    "    # Log model using transformers flavor\n",
    "    mlflow.transformers.log_model(\n",
    "        transformers_model={\n",
    "            \"model\": model,\n",
    "            \"tokenizer\": tokenizer\n",
    "        },\n",
    "        name=\"distilbert_feature_extractor\",\n",
    "        registered_model_name=\"DistilBERT-FeatureExtractor\",\n",
    "        input_example=[\"This is a sample text for feature extraction\"],\n",
    "        task=\"feature-extraction\"\n",
    "    )\n",
    "\n",
    "    # Log parameters\n",
    "    mlflow.log_params({\n",
    "        \"model_name\": model_name,\n",
    "        \"model_type\": \"distilbert\",\n",
    "        \"task\": \"feature-extraction\",\n",
    "        \"framework\": \"pytorch\",\n",
    "        \"max_length\": \"512\"\n",
    "    })\n",
    "\n",
    "    # Log device info\n",
    "    mlflow.log_param(\"device\", str(torch.device('cuda' if torch.cuda.is_available() else 'cpu')))\n",
    "\n",
    "    print(\"Model logged successfully to MLflow!\")"
   ],
   "id": "ba9a8226861c710",
   "outputs": [
    {
     "name": "stderr",
     "output_type": "stream",
     "text": [
      "Device set to use cpu\n",
      "2025/09/20 14:52:21 WARNING mlflow.transformers.signature: On Windows, timeout is not supported for model signature inference. Therefore, the operation is not bound by a timeout and may hang indefinitely. If it hangs, please consider specifying the signature manually.\n",
      "2025/09/20 14:52:21 WARNING mlflow.utils.environment: On Windows, timeout is not supported for model requirement inference. Therefore, the operation is not bound by a timeout and may hang indefinitely. If it hangs, please consider specifying the signature manually.\n",
      "Downloading artifacts: 100%|██████████| 14/14 [00:00<00:00, 121.20it/s] \n",
      "Device set to use cpu\n"
     ]
    },
    {
     "name": "stdout",
     "output_type": "stream",
     "text": [
      "🏃 View run able-shrike-715 at: http://127.0.0.1:5000/#/experiments/0/runs/38585b4868594524a8705f950381bc7e\n",
      "🧪 View experiment at: http://127.0.0.1:5000/#/experiments/0\n"
     ]
    },
    {
     "ename": "MlflowException",
     "evalue": "API request to http://127.0.0.1:5000/api/2.0/mlflow-artifacts/artifacts/0/models/m-fc4de28e81294a4d8b5b9d93cdee998c/artifacts/conda.yaml failed with exception HTTPConnectionPool(host='127.0.0.1', port=5000): Max retries exceeded with url: /api/2.0/mlflow-artifacts/artifacts/0/models/m-fc4de28e81294a4d8b5b9d93cdee998c/artifacts/conda.yaml (Caused by ResponseError('too many 500 error responses'))",
     "output_type": "error",
     "traceback": [
      "\u001B[31m---------------------------------------------------------------------------\u001B[39m",
      "\u001B[31mResponseError\u001B[39m                             Traceback (most recent call last)",
      "\u001B[31mResponseError\u001B[39m: too many 500 error responses",
      "\nThe above exception was the direct cause of the following exception:\n",
      "\u001B[31mMaxRetryError\u001B[39m                             Traceback (most recent call last)",
      "\u001B[36mFile \u001B[39m\u001B[32m~\\miniconda3\\envs\\web-attack-regconization\\Lib\\site-packages\\requests\\adapters.py:644\u001B[39m, in \u001B[36mHTTPAdapter.send\u001B[39m\u001B[34m(self, request, stream, timeout, verify, cert, proxies)\u001B[39m\n\u001B[32m    643\u001B[39m \u001B[38;5;28;01mtry\u001B[39;00m:\n\u001B[32m--> \u001B[39m\u001B[32m644\u001B[39m     resp = \u001B[43mconn\u001B[49m\u001B[43m.\u001B[49m\u001B[43murlopen\u001B[49m\u001B[43m(\u001B[49m\n\u001B[32m    645\u001B[39m \u001B[43m        \u001B[49m\u001B[43mmethod\u001B[49m\u001B[43m=\u001B[49m\u001B[43mrequest\u001B[49m\u001B[43m.\u001B[49m\u001B[43mmethod\u001B[49m\u001B[43m,\u001B[49m\n\u001B[32m    646\u001B[39m \u001B[43m        \u001B[49m\u001B[43murl\u001B[49m\u001B[43m=\u001B[49m\u001B[43murl\u001B[49m\u001B[43m,\u001B[49m\n\u001B[32m    647\u001B[39m \u001B[43m        \u001B[49m\u001B[43mbody\u001B[49m\u001B[43m=\u001B[49m\u001B[43mrequest\u001B[49m\u001B[43m.\u001B[49m\u001B[43mbody\u001B[49m\u001B[43m,\u001B[49m\n\u001B[32m    648\u001B[39m \u001B[43m        \u001B[49m\u001B[43mheaders\u001B[49m\u001B[43m=\u001B[49m\u001B[43mrequest\u001B[49m\u001B[43m.\u001B[49m\u001B[43mheaders\u001B[49m\u001B[43m,\u001B[49m\n\u001B[32m    649\u001B[39m \u001B[43m        \u001B[49m\u001B[43mredirect\u001B[49m\u001B[43m=\u001B[49m\u001B[38;5;28;43;01mFalse\u001B[39;49;00m\u001B[43m,\u001B[49m\n\u001B[32m    650\u001B[39m \u001B[43m        \u001B[49m\u001B[43massert_same_host\u001B[49m\u001B[43m=\u001B[49m\u001B[38;5;28;43;01mFalse\u001B[39;49;00m\u001B[43m,\u001B[49m\n\u001B[32m    651\u001B[39m \u001B[43m        \u001B[49m\u001B[43mpreload_content\u001B[49m\u001B[43m=\u001B[49m\u001B[38;5;28;43;01mFalse\u001B[39;49;00m\u001B[43m,\u001B[49m\n\u001B[32m    652\u001B[39m \u001B[43m        \u001B[49m\u001B[43mdecode_content\u001B[49m\u001B[43m=\u001B[49m\u001B[38;5;28;43;01mFalse\u001B[39;49;00m\u001B[43m,\u001B[49m\n\u001B[32m    653\u001B[39m \u001B[43m        \u001B[49m\u001B[43mretries\u001B[49m\u001B[43m=\u001B[49m\u001B[38;5;28;43mself\u001B[39;49m\u001B[43m.\u001B[49m\u001B[43mmax_retries\u001B[49m\u001B[43m,\u001B[49m\n\u001B[32m    654\u001B[39m \u001B[43m        \u001B[49m\u001B[43mtimeout\u001B[49m\u001B[43m=\u001B[49m\u001B[43mtimeout\u001B[49m\u001B[43m,\u001B[49m\n\u001B[32m    655\u001B[39m \u001B[43m        \u001B[49m\u001B[43mchunked\u001B[49m\u001B[43m=\u001B[49m\u001B[43mchunked\u001B[49m\u001B[43m,\u001B[49m\n\u001B[32m    656\u001B[39m \u001B[43m    \u001B[49m\u001B[43m)\u001B[49m\n\u001B[32m    658\u001B[39m \u001B[38;5;28;01mexcept\u001B[39;00m (ProtocolError, \u001B[38;5;167;01mOSError\u001B[39;00m) \u001B[38;5;28;01mas\u001B[39;00m err:\n",
      "\u001B[36mFile \u001B[39m\u001B[32m~\\miniconda3\\envs\\web-attack-regconization\\Lib\\site-packages\\urllib3\\connectionpool.py:942\u001B[39m, in \u001B[36mHTTPConnectionPool.urlopen\u001B[39m\u001B[34m(self, method, url, body, headers, retries, redirect, assert_same_host, timeout, pool_timeout, release_conn, chunked, body_pos, preload_content, decode_content, **response_kw)\u001B[39m\n\u001B[32m    941\u001B[39m     log.debug(\u001B[33m\"\u001B[39m\u001B[33mRetry: \u001B[39m\u001B[38;5;132;01m%s\u001B[39;00m\u001B[33m\"\u001B[39m, url)\n\u001B[32m--> \u001B[39m\u001B[32m942\u001B[39m     \u001B[38;5;28;01mreturn\u001B[39;00m \u001B[38;5;28;43mself\u001B[39;49m\u001B[43m.\u001B[49m\u001B[43murlopen\u001B[49m\u001B[43m(\u001B[49m\n\u001B[32m    943\u001B[39m \u001B[43m        \u001B[49m\u001B[43mmethod\u001B[49m\u001B[43m,\u001B[49m\n\u001B[32m    944\u001B[39m \u001B[43m        \u001B[49m\u001B[43murl\u001B[49m\u001B[43m,\u001B[49m\n\u001B[32m    945\u001B[39m \u001B[43m        \u001B[49m\u001B[43mbody\u001B[49m\u001B[43m,\u001B[49m\n\u001B[32m    946\u001B[39m \u001B[43m        \u001B[49m\u001B[43mheaders\u001B[49m\u001B[43m,\u001B[49m\n\u001B[32m    947\u001B[39m \u001B[43m        \u001B[49m\u001B[43mretries\u001B[49m\u001B[43m=\u001B[49m\u001B[43mretries\u001B[49m\u001B[43m,\u001B[49m\n\u001B[32m    948\u001B[39m \u001B[43m        \u001B[49m\u001B[43mredirect\u001B[49m\u001B[43m=\u001B[49m\u001B[43mredirect\u001B[49m\u001B[43m,\u001B[49m\n\u001B[32m    949\u001B[39m \u001B[43m        \u001B[49m\u001B[43massert_same_host\u001B[49m\u001B[43m=\u001B[49m\u001B[43massert_same_host\u001B[49m\u001B[43m,\u001B[49m\n\u001B[32m    950\u001B[39m \u001B[43m        \u001B[49m\u001B[43mtimeout\u001B[49m\u001B[43m=\u001B[49m\u001B[43mtimeout\u001B[49m\u001B[43m,\u001B[49m\n\u001B[32m    951\u001B[39m \u001B[43m        \u001B[49m\u001B[43mpool_timeout\u001B[49m\u001B[43m=\u001B[49m\u001B[43mpool_timeout\u001B[49m\u001B[43m,\u001B[49m\n\u001B[32m    952\u001B[39m \u001B[43m        \u001B[49m\u001B[43mrelease_conn\u001B[49m\u001B[43m=\u001B[49m\u001B[43mrelease_conn\u001B[49m\u001B[43m,\u001B[49m\n\u001B[32m    953\u001B[39m \u001B[43m        \u001B[49m\u001B[43mchunked\u001B[49m\u001B[43m=\u001B[49m\u001B[43mchunked\u001B[49m\u001B[43m,\u001B[49m\n\u001B[32m    954\u001B[39m \u001B[43m        \u001B[49m\u001B[43mbody_pos\u001B[49m\u001B[43m=\u001B[49m\u001B[43mbody_pos\u001B[49m\u001B[43m,\u001B[49m\n\u001B[32m    955\u001B[39m \u001B[43m        \u001B[49m\u001B[43mpreload_content\u001B[49m\u001B[43m=\u001B[49m\u001B[43mpreload_content\u001B[49m\u001B[43m,\u001B[49m\n\u001B[32m    956\u001B[39m \u001B[43m        \u001B[49m\u001B[43mdecode_content\u001B[49m\u001B[43m=\u001B[49m\u001B[43mdecode_content\u001B[49m\u001B[43m,\u001B[49m\n\u001B[32m    957\u001B[39m \u001B[43m        \u001B[49m\u001B[43m*\u001B[49m\u001B[43m*\u001B[49m\u001B[43mresponse_kw\u001B[49m\u001B[43m,\u001B[49m\n\u001B[32m    958\u001B[39m \u001B[43m    \u001B[49m\u001B[43m)\u001B[49m\n\u001B[32m    960\u001B[39m \u001B[38;5;28;01mreturn\u001B[39;00m response\n",
      "\u001B[36mFile \u001B[39m\u001B[32m~\\miniconda3\\envs\\web-attack-regconization\\Lib\\site-packages\\urllib3\\connectionpool.py:942\u001B[39m, in \u001B[36mHTTPConnectionPool.urlopen\u001B[39m\u001B[34m(self, method, url, body, headers, retries, redirect, assert_same_host, timeout, pool_timeout, release_conn, chunked, body_pos, preload_content, decode_content, **response_kw)\u001B[39m\n\u001B[32m    941\u001B[39m     log.debug(\u001B[33m\"\u001B[39m\u001B[33mRetry: \u001B[39m\u001B[38;5;132;01m%s\u001B[39;00m\u001B[33m\"\u001B[39m, url)\n\u001B[32m--> \u001B[39m\u001B[32m942\u001B[39m     \u001B[38;5;28;01mreturn\u001B[39;00m \u001B[38;5;28;43mself\u001B[39;49m\u001B[43m.\u001B[49m\u001B[43murlopen\u001B[49m\u001B[43m(\u001B[49m\n\u001B[32m    943\u001B[39m \u001B[43m        \u001B[49m\u001B[43mmethod\u001B[49m\u001B[43m,\u001B[49m\n\u001B[32m    944\u001B[39m \u001B[43m        \u001B[49m\u001B[43murl\u001B[49m\u001B[43m,\u001B[49m\n\u001B[32m    945\u001B[39m \u001B[43m        \u001B[49m\u001B[43mbody\u001B[49m\u001B[43m,\u001B[49m\n\u001B[32m    946\u001B[39m \u001B[43m        \u001B[49m\u001B[43mheaders\u001B[49m\u001B[43m,\u001B[49m\n\u001B[32m    947\u001B[39m \u001B[43m        \u001B[49m\u001B[43mretries\u001B[49m\u001B[43m=\u001B[49m\u001B[43mretries\u001B[49m\u001B[43m,\u001B[49m\n\u001B[32m    948\u001B[39m \u001B[43m        \u001B[49m\u001B[43mredirect\u001B[49m\u001B[43m=\u001B[49m\u001B[43mredirect\u001B[49m\u001B[43m,\u001B[49m\n\u001B[32m    949\u001B[39m \u001B[43m        \u001B[49m\u001B[43massert_same_host\u001B[49m\u001B[43m=\u001B[49m\u001B[43massert_same_host\u001B[49m\u001B[43m,\u001B[49m\n\u001B[32m    950\u001B[39m \u001B[43m        \u001B[49m\u001B[43mtimeout\u001B[49m\u001B[43m=\u001B[49m\u001B[43mtimeout\u001B[49m\u001B[43m,\u001B[49m\n\u001B[32m    951\u001B[39m \u001B[43m        \u001B[49m\u001B[43mpool_timeout\u001B[49m\u001B[43m=\u001B[49m\u001B[43mpool_timeout\u001B[49m\u001B[43m,\u001B[49m\n\u001B[32m    952\u001B[39m \u001B[43m        \u001B[49m\u001B[43mrelease_conn\u001B[49m\u001B[43m=\u001B[49m\u001B[43mrelease_conn\u001B[49m\u001B[43m,\u001B[49m\n\u001B[32m    953\u001B[39m \u001B[43m        \u001B[49m\u001B[43mchunked\u001B[49m\u001B[43m=\u001B[49m\u001B[43mchunked\u001B[49m\u001B[43m,\u001B[49m\n\u001B[32m    954\u001B[39m \u001B[43m        \u001B[49m\u001B[43mbody_pos\u001B[49m\u001B[43m=\u001B[49m\u001B[43mbody_pos\u001B[49m\u001B[43m,\u001B[49m\n\u001B[32m    955\u001B[39m \u001B[43m        \u001B[49m\u001B[43mpreload_content\u001B[49m\u001B[43m=\u001B[49m\u001B[43mpreload_content\u001B[49m\u001B[43m,\u001B[49m\n\u001B[32m    956\u001B[39m \u001B[43m        \u001B[49m\u001B[43mdecode_content\u001B[49m\u001B[43m=\u001B[49m\u001B[43mdecode_content\u001B[49m\u001B[43m,\u001B[49m\n\u001B[32m    957\u001B[39m \u001B[43m        \u001B[49m\u001B[43m*\u001B[49m\u001B[43m*\u001B[49m\u001B[43mresponse_kw\u001B[49m\u001B[43m,\u001B[49m\n\u001B[32m    958\u001B[39m \u001B[43m    \u001B[49m\u001B[43m)\u001B[49m\n\u001B[32m    960\u001B[39m \u001B[38;5;28;01mreturn\u001B[39;00m response\n",
      "    \u001B[31m[... skipping similar frames: HTTPConnectionPool.urlopen at line 942 (4 times)]\u001B[39m\n",
      "\u001B[36mFile \u001B[39m\u001B[32m~\\miniconda3\\envs\\web-attack-regconization\\Lib\\site-packages\\urllib3\\connectionpool.py:942\u001B[39m, in \u001B[36mHTTPConnectionPool.urlopen\u001B[39m\u001B[34m(self, method, url, body, headers, retries, redirect, assert_same_host, timeout, pool_timeout, release_conn, chunked, body_pos, preload_content, decode_content, **response_kw)\u001B[39m\n\u001B[32m    941\u001B[39m     log.debug(\u001B[33m\"\u001B[39m\u001B[33mRetry: \u001B[39m\u001B[38;5;132;01m%s\u001B[39;00m\u001B[33m\"\u001B[39m, url)\n\u001B[32m--> \u001B[39m\u001B[32m942\u001B[39m     \u001B[38;5;28;01mreturn\u001B[39;00m \u001B[38;5;28;43mself\u001B[39;49m\u001B[43m.\u001B[49m\u001B[43murlopen\u001B[49m\u001B[43m(\u001B[49m\n\u001B[32m    943\u001B[39m \u001B[43m        \u001B[49m\u001B[43mmethod\u001B[49m\u001B[43m,\u001B[49m\n\u001B[32m    944\u001B[39m \u001B[43m        \u001B[49m\u001B[43murl\u001B[49m\u001B[43m,\u001B[49m\n\u001B[32m    945\u001B[39m \u001B[43m        \u001B[49m\u001B[43mbody\u001B[49m\u001B[43m,\u001B[49m\n\u001B[32m    946\u001B[39m \u001B[43m        \u001B[49m\u001B[43mheaders\u001B[49m\u001B[43m,\u001B[49m\n\u001B[32m    947\u001B[39m \u001B[43m        \u001B[49m\u001B[43mretries\u001B[49m\u001B[43m=\u001B[49m\u001B[43mretries\u001B[49m\u001B[43m,\u001B[49m\n\u001B[32m    948\u001B[39m \u001B[43m        \u001B[49m\u001B[43mredirect\u001B[49m\u001B[43m=\u001B[49m\u001B[43mredirect\u001B[49m\u001B[43m,\u001B[49m\n\u001B[32m    949\u001B[39m \u001B[43m        \u001B[49m\u001B[43massert_same_host\u001B[49m\u001B[43m=\u001B[49m\u001B[43massert_same_host\u001B[49m\u001B[43m,\u001B[49m\n\u001B[32m    950\u001B[39m \u001B[43m        \u001B[49m\u001B[43mtimeout\u001B[49m\u001B[43m=\u001B[49m\u001B[43mtimeout\u001B[49m\u001B[43m,\u001B[49m\n\u001B[32m    951\u001B[39m \u001B[43m        \u001B[49m\u001B[43mpool_timeout\u001B[49m\u001B[43m=\u001B[49m\u001B[43mpool_timeout\u001B[49m\u001B[43m,\u001B[49m\n\u001B[32m    952\u001B[39m \u001B[43m        \u001B[49m\u001B[43mrelease_conn\u001B[49m\u001B[43m=\u001B[49m\u001B[43mrelease_conn\u001B[49m\u001B[43m,\u001B[49m\n\u001B[32m    953\u001B[39m \u001B[43m        \u001B[49m\u001B[43mchunked\u001B[49m\u001B[43m=\u001B[49m\u001B[43mchunked\u001B[49m\u001B[43m,\u001B[49m\n\u001B[32m    954\u001B[39m \u001B[43m        \u001B[49m\u001B[43mbody_pos\u001B[49m\u001B[43m=\u001B[49m\u001B[43mbody_pos\u001B[49m\u001B[43m,\u001B[49m\n\u001B[32m    955\u001B[39m \u001B[43m        \u001B[49m\u001B[43mpreload_content\u001B[49m\u001B[43m=\u001B[49m\u001B[43mpreload_content\u001B[49m\u001B[43m,\u001B[49m\n\u001B[32m    956\u001B[39m \u001B[43m        \u001B[49m\u001B[43mdecode_content\u001B[49m\u001B[43m=\u001B[49m\u001B[43mdecode_content\u001B[49m\u001B[43m,\u001B[49m\n\u001B[32m    957\u001B[39m \u001B[43m        \u001B[49m\u001B[43m*\u001B[49m\u001B[43m*\u001B[49m\u001B[43mresponse_kw\u001B[49m\u001B[43m,\u001B[49m\n\u001B[32m    958\u001B[39m \u001B[43m    \u001B[49m\u001B[43m)\u001B[49m\n\u001B[32m    960\u001B[39m \u001B[38;5;28;01mreturn\u001B[39;00m response\n",
      "\u001B[36mFile \u001B[39m\u001B[32m~\\miniconda3\\envs\\web-attack-regconization\\Lib\\site-packages\\urllib3\\connectionpool.py:932\u001B[39m, in \u001B[36mHTTPConnectionPool.urlopen\u001B[39m\u001B[34m(self, method, url, body, headers, retries, redirect, assert_same_host, timeout, pool_timeout, release_conn, chunked, body_pos, preload_content, decode_content, **response_kw)\u001B[39m\n\u001B[32m    931\u001B[39m \u001B[38;5;28;01mtry\u001B[39;00m:\n\u001B[32m--> \u001B[39m\u001B[32m932\u001B[39m     retries = \u001B[43mretries\u001B[49m\u001B[43m.\u001B[49m\u001B[43mincrement\u001B[49m\u001B[43m(\u001B[49m\u001B[43mmethod\u001B[49m\u001B[43m,\u001B[49m\u001B[43m \u001B[49m\u001B[43murl\u001B[49m\u001B[43m,\u001B[49m\u001B[43m \u001B[49m\u001B[43mresponse\u001B[49m\u001B[43m=\u001B[49m\u001B[43mresponse\u001B[49m\u001B[43m,\u001B[49m\u001B[43m \u001B[49m\u001B[43m_pool\u001B[49m\u001B[43m=\u001B[49m\u001B[38;5;28;43mself\u001B[39;49m\u001B[43m)\u001B[49m\n\u001B[32m    933\u001B[39m \u001B[38;5;28;01mexcept\u001B[39;00m MaxRetryError:\n",
      "\u001B[36mFile \u001B[39m\u001B[32m~\\miniconda3\\envs\\web-attack-regconization\\Lib\\site-packages\\urllib3\\util\\retry.py:519\u001B[39m, in \u001B[36mRetry.increment\u001B[39m\u001B[34m(self, method, url, response, error, _pool, _stacktrace)\u001B[39m\n\u001B[32m    518\u001B[39m     reason = error \u001B[38;5;129;01mor\u001B[39;00m ResponseError(cause)\n\u001B[32m--> \u001B[39m\u001B[32m519\u001B[39m     \u001B[38;5;28;01mraise\u001B[39;00m MaxRetryError(_pool, url, reason) \u001B[38;5;28;01mfrom\u001B[39;00m\u001B[38;5;250m \u001B[39m\u001B[34;01mreason\u001B[39;00m  \u001B[38;5;66;03m# type: ignore[arg-type]\u001B[39;00m\n\u001B[32m    521\u001B[39m log.debug(\u001B[33m\"\u001B[39m\u001B[33mIncremented Retry for (url=\u001B[39m\u001B[33m'\u001B[39m\u001B[38;5;132;01m%s\u001B[39;00m\u001B[33m'\u001B[39m\u001B[33m): \u001B[39m\u001B[38;5;132;01m%r\u001B[39;00m\u001B[33m\"\u001B[39m, url, new_retry)\n",
      "\u001B[31mMaxRetryError\u001B[39m: HTTPConnectionPool(host='127.0.0.1', port=5000): Max retries exceeded with url: /api/2.0/mlflow-artifacts/artifacts/0/models/m-fc4de28e81294a4d8b5b9d93cdee998c/artifacts/conda.yaml (Caused by ResponseError('too many 500 error responses'))",
      "\nDuring handling of the above exception, another exception occurred:\n",
      "\u001B[31mRetryError\u001B[39m                                Traceback (most recent call last)",
      "\u001B[36mFile \u001B[39m\u001B[32m~\\miniconda3\\envs\\web-attack-regconization\\Lib\\site-packages\\mlflow\\utils\\rest_utils.py:230\u001B[39m, in \u001B[36mhttp_request\u001B[39m\u001B[34m(host_creds, endpoint, method, max_retries, backoff_factor, backoff_jitter, extra_headers, retry_codes, timeout, raise_on_status, respect_retry_after_header, retry_timeout_seconds, **kwargs)\u001B[39m\n\u001B[32m    229\u001B[39m \u001B[38;5;28;01mtry\u001B[39;00m:\n\u001B[32m--> \u001B[39m\u001B[32m230\u001B[39m     \u001B[38;5;28;01mreturn\u001B[39;00m \u001B[43m_get_http_response_with_retries\u001B[49m\u001B[43m(\u001B[49m\n\u001B[32m    231\u001B[39m \u001B[43m        \u001B[49m\u001B[43mmethod\u001B[49m\u001B[43m,\u001B[49m\n\u001B[32m    232\u001B[39m \u001B[43m        \u001B[49m\u001B[43murl\u001B[49m\u001B[43m,\u001B[49m\n\u001B[32m    233\u001B[39m \u001B[43m        \u001B[49m\u001B[43mmax_retries\u001B[49m\u001B[43m,\u001B[49m\n\u001B[32m    234\u001B[39m \u001B[43m        \u001B[49m\u001B[43mbackoff_factor\u001B[49m\u001B[43m,\u001B[49m\n\u001B[32m    235\u001B[39m \u001B[43m        \u001B[49m\u001B[43mbackoff_jitter\u001B[49m\u001B[43m,\u001B[49m\n\u001B[32m    236\u001B[39m \u001B[43m        \u001B[49m\u001B[43mretry_codes\u001B[49m\u001B[43m,\u001B[49m\n\u001B[32m    237\u001B[39m \u001B[43m        \u001B[49m\u001B[43mraise_on_status\u001B[49m\u001B[43m,\u001B[49m\n\u001B[32m    238\u001B[39m \u001B[43m        \u001B[49m\u001B[43mheaders\u001B[49m\u001B[43m=\u001B[49m\u001B[43mheaders\u001B[49m\u001B[43m,\u001B[49m\n\u001B[32m    239\u001B[39m \u001B[43m        \u001B[49m\u001B[43mverify\u001B[49m\u001B[43m=\u001B[49m\u001B[43mhost_creds\u001B[49m\u001B[43m.\u001B[49m\u001B[43mverify\u001B[49m\u001B[43m,\u001B[49m\n\u001B[32m    240\u001B[39m \u001B[43m        \u001B[49m\u001B[43mtimeout\u001B[49m\u001B[43m=\u001B[49m\u001B[43mtimeout\u001B[49m\u001B[43m,\u001B[49m\n\u001B[32m    241\u001B[39m \u001B[43m        \u001B[49m\u001B[43mrespect_retry_after_header\u001B[49m\u001B[43m=\u001B[49m\u001B[43mrespect_retry_after_header\u001B[49m\u001B[43m,\u001B[49m\n\u001B[32m    242\u001B[39m \u001B[43m        \u001B[49m\u001B[43m*\u001B[49m\u001B[43m*\u001B[49m\u001B[43mkwargs\u001B[49m\u001B[43m,\u001B[49m\n\u001B[32m    243\u001B[39m \u001B[43m    \u001B[49m\u001B[43m)\u001B[49m\n\u001B[32m    244\u001B[39m \u001B[38;5;28;01mexcept\u001B[39;00m requests.exceptions.Timeout \u001B[38;5;28;01mas\u001B[39;00m to:\n",
      "\u001B[36mFile \u001B[39m\u001B[32m~\\miniconda3\\envs\\web-attack-regconization\\Lib\\site-packages\\mlflow\\utils\\request_utils.py:237\u001B[39m, in \u001B[36m_get_http_response_with_retries\u001B[39m\u001B[34m(method, url, max_retries, backoff_factor, backoff_jitter, retry_codes, raise_on_status, allow_redirects, respect_retry_after_header, **kwargs)\u001B[39m\n\u001B[32m    235\u001B[39m allow_redirects = env_value \u001B[38;5;28;01mif\u001B[39;00m allow_redirects \u001B[38;5;129;01mis\u001B[39;00m \u001B[38;5;28;01mNone\u001B[39;00m \u001B[38;5;28;01melse\u001B[39;00m allow_redirects\n\u001B[32m--> \u001B[39m\u001B[32m237\u001B[39m \u001B[38;5;28;01mreturn\u001B[39;00m \u001B[43msession\u001B[49m\u001B[43m.\u001B[49m\u001B[43mrequest\u001B[49m\u001B[43m(\u001B[49m\u001B[43mmethod\u001B[49m\u001B[43m,\u001B[49m\u001B[43m \u001B[49m\u001B[43murl\u001B[49m\u001B[43m,\u001B[49m\u001B[43m \u001B[49m\u001B[43mallow_redirects\u001B[49m\u001B[43m=\u001B[49m\u001B[43mallow_redirects\u001B[49m\u001B[43m,\u001B[49m\u001B[43m \u001B[49m\u001B[43m*\u001B[49m\u001B[43m*\u001B[49m\u001B[43mkwargs\u001B[49m\u001B[43m)\u001B[49m\n",
      "\u001B[36mFile \u001B[39m\u001B[32m~\\miniconda3\\envs\\web-attack-regconization\\Lib\\site-packages\\requests\\sessions.py:589\u001B[39m, in \u001B[36mSession.request\u001B[39m\u001B[34m(self, method, url, params, data, headers, cookies, files, auth, timeout, allow_redirects, proxies, hooks, stream, verify, cert, json)\u001B[39m\n\u001B[32m    588\u001B[39m send_kwargs.update(settings)\n\u001B[32m--> \u001B[39m\u001B[32m589\u001B[39m resp = \u001B[38;5;28;43mself\u001B[39;49m\u001B[43m.\u001B[49m\u001B[43msend\u001B[49m\u001B[43m(\u001B[49m\u001B[43mprep\u001B[49m\u001B[43m,\u001B[49m\u001B[43m \u001B[49m\u001B[43m*\u001B[49m\u001B[43m*\u001B[49m\u001B[43msend_kwargs\u001B[49m\u001B[43m)\u001B[49m\n\u001B[32m    591\u001B[39m \u001B[38;5;28;01mreturn\u001B[39;00m resp\n",
      "\u001B[36mFile \u001B[39m\u001B[32m~\\miniconda3\\envs\\web-attack-regconization\\Lib\\site-packages\\requests\\sessions.py:703\u001B[39m, in \u001B[36mSession.send\u001B[39m\u001B[34m(self, request, **kwargs)\u001B[39m\n\u001B[32m    702\u001B[39m \u001B[38;5;66;03m# Send the request\u001B[39;00m\n\u001B[32m--> \u001B[39m\u001B[32m703\u001B[39m r = \u001B[43madapter\u001B[49m\u001B[43m.\u001B[49m\u001B[43msend\u001B[49m\u001B[43m(\u001B[49m\u001B[43mrequest\u001B[49m\u001B[43m,\u001B[49m\u001B[43m \u001B[49m\u001B[43m*\u001B[49m\u001B[43m*\u001B[49m\u001B[43mkwargs\u001B[49m\u001B[43m)\u001B[49m\n\u001B[32m    705\u001B[39m \u001B[38;5;66;03m# Total elapsed time of the request (approximately)\u001B[39;00m\n",
      "\u001B[36mFile \u001B[39m\u001B[32m~\\miniconda3\\envs\\web-attack-regconization\\Lib\\site-packages\\requests\\adapters.py:668\u001B[39m, in \u001B[36mHTTPAdapter.send\u001B[39m\u001B[34m(self, request, stream, timeout, verify, cert, proxies)\u001B[39m\n\u001B[32m    667\u001B[39m \u001B[38;5;28;01mif\u001B[39;00m \u001B[38;5;28misinstance\u001B[39m(e.reason, ResponseError):\n\u001B[32m--> \u001B[39m\u001B[32m668\u001B[39m     \u001B[38;5;28;01mraise\u001B[39;00m RetryError(e, request=request)\n\u001B[32m    670\u001B[39m \u001B[38;5;28;01mif\u001B[39;00m \u001B[38;5;28misinstance\u001B[39m(e.reason, _ProxyError):\n",
      "\u001B[31mRetryError\u001B[39m: HTTPConnectionPool(host='127.0.0.1', port=5000): Max retries exceeded with url: /api/2.0/mlflow-artifacts/artifacts/0/models/m-fc4de28e81294a4d8b5b9d93cdee998c/artifacts/conda.yaml (Caused by ResponseError('too many 500 error responses'))",
      "\nDuring handling of the above exception, another exception occurred:\n",
      "\u001B[31mMlflowException\u001B[39m                           Traceback (most recent call last)",
      "\u001B[36mCell\u001B[39m\u001B[36m \u001B[39m\u001B[32mIn[7]\u001B[39m\u001B[32m, line 34\u001B[39m\n\u001B[32m     31\u001B[39m \u001B[38;5;66;03m# Lưu model vào MLflow\u001B[39;00m\n\u001B[32m     32\u001B[39m \u001B[38;5;28;01mwith\u001B[39;00m mlflow.start_run():\n\u001B[32m     33\u001B[39m     \u001B[38;5;66;03m# Log model using transformers flavor\u001B[39;00m\n\u001B[32m---> \u001B[39m\u001B[32m34\u001B[39m     \u001B[43mmlflow\u001B[49m\u001B[43m.\u001B[49m\u001B[43mtransformers\u001B[49m\u001B[43m.\u001B[49m\u001B[43mlog_model\u001B[49m\u001B[43m(\u001B[49m\n\u001B[32m     35\u001B[39m \u001B[43m        \u001B[49m\u001B[43mtransformers_model\u001B[49m\u001B[43m=\u001B[49m\u001B[43m{\u001B[49m\n\u001B[32m     36\u001B[39m \u001B[43m            \u001B[49m\u001B[33;43m\"\u001B[39;49m\u001B[33;43mmodel\u001B[39;49m\u001B[33;43m\"\u001B[39;49m\u001B[43m:\u001B[49m\u001B[43m \u001B[49m\u001B[43mmodel\u001B[49m\u001B[43m,\u001B[49m\n\u001B[32m     37\u001B[39m \u001B[43m            \u001B[49m\u001B[33;43m\"\u001B[39;49m\u001B[33;43mtokenizer\u001B[39;49m\u001B[33;43m\"\u001B[39;49m\u001B[43m:\u001B[49m\u001B[43m \u001B[49m\u001B[43mtokenizer\u001B[49m\n\u001B[32m     38\u001B[39m \u001B[43m        \u001B[49m\u001B[43m}\u001B[49m\u001B[43m,\u001B[49m\n\u001B[32m     39\u001B[39m \u001B[43m        \u001B[49m\u001B[43mname\u001B[49m\u001B[43m=\u001B[49m\u001B[33;43m\"\u001B[39;49m\u001B[33;43mdistilbert_feature_extractor\u001B[39;49m\u001B[33;43m\"\u001B[39;49m\u001B[43m,\u001B[49m\n\u001B[32m     40\u001B[39m \u001B[43m        \u001B[49m\u001B[43mregistered_model_name\u001B[49m\u001B[43m=\u001B[49m\u001B[33;43m\"\u001B[39;49m\u001B[33;43mDistilBERT-FeatureExtractor\u001B[39;49m\u001B[33;43m\"\u001B[39;49m\u001B[43m,\u001B[49m\n\u001B[32m     41\u001B[39m \u001B[43m        \u001B[49m\u001B[43minput_example\u001B[49m\u001B[43m=\u001B[49m\u001B[43m[\u001B[49m\u001B[33;43m\"\u001B[39;49m\u001B[33;43mThis is a sample text for feature extraction\u001B[39;49m\u001B[33;43m\"\u001B[39;49m\u001B[43m]\u001B[49m\u001B[43m,\u001B[49m\n\u001B[32m     42\u001B[39m \u001B[43m        \u001B[49m\u001B[43mtask\u001B[49m\u001B[43m=\u001B[49m\u001B[33;43m\"\u001B[39;49m\u001B[33;43mfeature-extraction\u001B[39;49m\u001B[33;43m\"\u001B[39;49m\n\u001B[32m     43\u001B[39m \u001B[43m    \u001B[49m\u001B[43m)\u001B[49m\n\u001B[32m     45\u001B[39m     \u001B[38;5;66;03m# Log parameters\u001B[39;00m\n\u001B[32m     46\u001B[39m     mlflow.log_params({\n\u001B[32m     47\u001B[39m         \u001B[33m\"\u001B[39m\u001B[33mmodel_name\u001B[39m\u001B[33m\"\u001B[39m: model_name,\n\u001B[32m     48\u001B[39m         \u001B[33m\"\u001B[39m\u001B[33mmodel_type\u001B[39m\u001B[33m\"\u001B[39m: \u001B[33m\"\u001B[39m\u001B[33mdistilbert\u001B[39m\u001B[33m\"\u001B[39m,\n\u001B[32m   (...)\u001B[39m\u001B[32m     51\u001B[39m         \u001B[33m\"\u001B[39m\u001B[33mmax_length\u001B[39m\u001B[33m\"\u001B[39m: \u001B[33m\"\u001B[39m\u001B[33m512\u001B[39m\u001B[33m\"\u001B[39m\n\u001B[32m     52\u001B[39m     })\n",
      "\u001B[36mFile \u001B[39m\u001B[32m~\\miniconda3\\envs\\web-attack-regconization\\Lib\\site-packages\\mlflow\\transformers\\__init__.py:1015\u001B[39m, in \u001B[36mlog_model\u001B[39m\u001B[34m(transformers_model, artifact_path, processor, task, torch_dtype, model_card, code_paths, registered_model_name, signature, input_example, await_registration_for, pip_requirements, extra_pip_requirements, conda_env, metadata, model_config, prompt_template, save_pretrained, prompts, name, params, tags, model_type, step, model_id, **kwargs)\u001B[39m\n\u001B[32m    780\u001B[39m \u001B[38;5;129m@docstring_version_compatibility_warning\u001B[39m(integration_name=FLAVOR_NAME)\n\u001B[32m    781\u001B[39m \u001B[38;5;129m@format_docstring\u001B[39m(LOG_MODEL_PARAM_DOCS.format(package_name=FLAVOR_NAME))\n\u001B[32m    782\u001B[39m \u001B[38;5;28;01mdef\u001B[39;00m\u001B[38;5;250m \u001B[39m\u001B[34mlog_model\u001B[39m(\n\u001B[32m   (...)\u001B[39m\u001B[32m    808\u001B[39m     **kwargs,\n\u001B[32m    809\u001B[39m ):\n\u001B[32m    810\u001B[39m \u001B[38;5;250m    \u001B[39m\u001B[33;03m\"\"\"\u001B[39;00m\n\u001B[32m    811\u001B[39m \u001B[33;03m    Log a ``transformers`` object as an MLflow artifact for the current run. Note that\u001B[39;00m\n\u001B[32m    812\u001B[39m \u001B[33;03m    logging transformers models with custom code (i.e. models that require\u001B[39;00m\n\u001B[32m   (...)\u001B[39m\u001B[32m   1013\u001B[39m \u001B[33;03m        kwargs: Additional arguments for :py:class:`mlflow.models.model.Model`\u001B[39;00m\n\u001B[32m   1014\u001B[39m \u001B[33;03m    \"\"\"\u001B[39;00m\n\u001B[32m-> \u001B[39m\u001B[32m1015\u001B[39m     \u001B[38;5;28;01mreturn\u001B[39;00m \u001B[43mModel\u001B[49m\u001B[43m.\u001B[49m\u001B[43mlog\u001B[49m\u001B[43m(\u001B[49m\n\u001B[32m   1016\u001B[39m \u001B[43m        \u001B[49m\u001B[43martifact_path\u001B[49m\u001B[43m=\u001B[49m\u001B[43martifact_path\u001B[49m\u001B[43m,\u001B[49m\n\u001B[32m   1017\u001B[39m \u001B[43m        \u001B[49m\u001B[43mname\u001B[49m\u001B[43m=\u001B[49m\u001B[43mname\u001B[49m\u001B[43m,\u001B[49m\n\u001B[32m   1018\u001B[39m \u001B[43m        \u001B[49m\u001B[43mflavor\u001B[49m\u001B[43m=\u001B[49m\u001B[43msys\u001B[49m\u001B[43m.\u001B[49m\u001B[43mmodules\u001B[49m\u001B[43m[\u001B[49m\u001B[34;43m__name__\u001B[39;49m\u001B[43m]\u001B[49m\u001B[43m,\u001B[49m\u001B[43m  \u001B[49m\u001B[38;5;66;43;03m# Get the current module.\u001B[39;49;00m\n\u001B[32m   1019\u001B[39m \u001B[43m        \u001B[49m\u001B[43mregistered_model_name\u001B[49m\u001B[43m=\u001B[49m\u001B[43mregistered_model_name\u001B[49m\u001B[43m,\u001B[49m\n\u001B[32m   1020\u001B[39m \u001B[43m        \u001B[49m\u001B[43mawait_registration_for\u001B[49m\u001B[43m=\u001B[49m\u001B[43mawait_registration_for\u001B[49m\u001B[43m,\u001B[49m\n\u001B[32m   1021\u001B[39m \u001B[43m        \u001B[49m\u001B[43mmetadata\u001B[49m\u001B[43m=\u001B[49m\u001B[43mmetadata\u001B[49m\u001B[43m,\u001B[49m\n\u001B[32m   1022\u001B[39m \u001B[43m        \u001B[49m\u001B[43mtransformers_model\u001B[49m\u001B[43m=\u001B[49m\u001B[43mtransformers_model\u001B[49m\u001B[43m,\u001B[49m\n\u001B[32m   1023\u001B[39m \u001B[43m        \u001B[49m\u001B[43mprocessor\u001B[49m\u001B[43m=\u001B[49m\u001B[43mprocessor\u001B[49m\u001B[43m,\u001B[49m\n\u001B[32m   1024\u001B[39m \u001B[43m        \u001B[49m\u001B[43mtask\u001B[49m\u001B[43m=\u001B[49m\u001B[43mtask\u001B[49m\u001B[43m,\u001B[49m\n\u001B[32m   1025\u001B[39m \u001B[43m        \u001B[49m\u001B[43mtorch_dtype\u001B[49m\u001B[43m=\u001B[49m\u001B[43mtorch_dtype\u001B[49m\u001B[43m,\u001B[49m\n\u001B[32m   1026\u001B[39m \u001B[43m        \u001B[49m\u001B[43mmodel_card\u001B[49m\u001B[43m=\u001B[49m\u001B[43mmodel_card\u001B[49m\u001B[43m,\u001B[49m\n\u001B[32m   1027\u001B[39m \u001B[43m        \u001B[49m\u001B[43mconda_env\u001B[49m\u001B[43m=\u001B[49m\u001B[43mconda_env\u001B[49m\u001B[43m,\u001B[49m\n\u001B[32m   1028\u001B[39m \u001B[43m        \u001B[49m\u001B[43mcode_paths\u001B[49m\u001B[43m=\u001B[49m\u001B[43mcode_paths\u001B[49m\u001B[43m,\u001B[49m\n\u001B[32m   1029\u001B[39m \u001B[43m        \u001B[49m\u001B[43msignature\u001B[49m\u001B[43m=\u001B[49m\u001B[43msignature\u001B[49m\u001B[43m,\u001B[49m\n\u001B[32m   1030\u001B[39m \u001B[43m        \u001B[49m\u001B[43minput_example\u001B[49m\u001B[43m=\u001B[49m\u001B[43minput_example\u001B[49m\u001B[43m,\u001B[49m\n\u001B[32m   1031\u001B[39m \u001B[43m        \u001B[49m\u001B[38;5;66;43;03m# NB: We don't validate the serving input if the provided model is a path\u001B[39;49;00m\n\u001B[32m   1032\u001B[39m \u001B[43m        \u001B[49m\u001B[38;5;66;43;03m# to a local checkpoint. This is because the purpose of supporting that\u001B[39;49;00m\n\u001B[32m   1033\u001B[39m \u001B[43m        \u001B[49m\u001B[38;5;66;43;03m# input format is to avoid loading large model into memory. Serving input\u001B[39;49;00m\n\u001B[32m   1034\u001B[39m \u001B[43m        \u001B[49m\u001B[38;5;66;43;03m# validation loads the model into memory and make prediction, which is\u001B[39;49;00m\n\u001B[32m   1035\u001B[39m \u001B[43m        \u001B[49m\u001B[38;5;66;43;03m# expensive and can cause OOM errors.\u001B[39;49;00m\n\u001B[32m   1036\u001B[39m \u001B[43m        \u001B[49m\u001B[43mvalidate_serving_input\u001B[49m\u001B[43m=\u001B[49m\u001B[38;5;129;43;01mnot\u001B[39;49;00m\u001B[43m \u001B[49m\u001B[38;5;28;43misinstance\u001B[39;49m\u001B[43m(\u001B[49m\u001B[43mtransformers_model\u001B[49m\u001B[43m,\u001B[49m\u001B[43m \u001B[49m\u001B[38;5;28;43mstr\u001B[39;49m\u001B[43m)\u001B[49m\u001B[43m,\u001B[49m\n\u001B[32m   1037\u001B[39m \u001B[43m        \u001B[49m\u001B[43mpip_requirements\u001B[49m\u001B[43m=\u001B[49m\u001B[43mpip_requirements\u001B[49m\u001B[43m,\u001B[49m\n\u001B[32m   1038\u001B[39m \u001B[43m        \u001B[49m\u001B[43mextra_pip_requirements\u001B[49m\u001B[43m=\u001B[49m\u001B[43mextra_pip_requirements\u001B[49m\u001B[43m,\u001B[49m\n\u001B[32m   1039\u001B[39m \u001B[43m        \u001B[49m\u001B[43mmodel_config\u001B[49m\u001B[43m=\u001B[49m\u001B[43mmodel_config\u001B[49m\u001B[43m,\u001B[49m\n\u001B[32m   1040\u001B[39m \u001B[43m        \u001B[49m\u001B[43mprompt_template\u001B[49m\u001B[43m=\u001B[49m\u001B[43mprompt_template\u001B[49m\u001B[43m,\u001B[49m\n\u001B[32m   1041\u001B[39m \u001B[43m        \u001B[49m\u001B[43msave_pretrained\u001B[49m\u001B[43m=\u001B[49m\u001B[43msave_pretrained\u001B[49m\u001B[43m,\u001B[49m\n\u001B[32m   1042\u001B[39m \u001B[43m        \u001B[49m\u001B[43mprompts\u001B[49m\u001B[43m=\u001B[49m\u001B[43mprompts\u001B[49m\u001B[43m,\u001B[49m\n\u001B[32m   1043\u001B[39m \u001B[43m        \u001B[49m\u001B[43mparams\u001B[49m\u001B[43m=\u001B[49m\u001B[43mparams\u001B[49m\u001B[43m,\u001B[49m\n\u001B[32m   1044\u001B[39m \u001B[43m        \u001B[49m\u001B[43mtags\u001B[49m\u001B[43m=\u001B[49m\u001B[43mtags\u001B[49m\u001B[43m,\u001B[49m\n\u001B[32m   1045\u001B[39m \u001B[43m        \u001B[49m\u001B[43mmodel_type\u001B[49m\u001B[43m=\u001B[49m\u001B[43mmodel_type\u001B[49m\u001B[43m,\u001B[49m\n\u001B[32m   1046\u001B[39m \u001B[43m        \u001B[49m\u001B[43mstep\u001B[49m\u001B[43m=\u001B[49m\u001B[43mstep\u001B[49m\u001B[43m,\u001B[49m\n\u001B[32m   1047\u001B[39m \u001B[43m        \u001B[49m\u001B[43mmodel_id\u001B[49m\u001B[43m=\u001B[49m\u001B[43mmodel_id\u001B[49m\u001B[43m,\u001B[49m\n\u001B[32m   1048\u001B[39m \u001B[43m        \u001B[49m\u001B[43m*\u001B[49m\u001B[43m*\u001B[49m\u001B[43mkwargs\u001B[49m\u001B[43m,\u001B[49m\n\u001B[32m   1049\u001B[39m \u001B[43m    \u001B[49m\u001B[43m)\u001B[49m\n",
      "\u001B[36mFile \u001B[39m\u001B[32m~\\miniconda3\\envs\\web-attack-regconization\\Lib\\site-packages\\mlflow\\models\\model.py:1302\u001B[39m, in \u001B[36mModel.log\u001B[39m\u001B[34m(cls, artifact_path, flavor, registered_model_name, await_registration_for, metadata, run_id, resources, auth_policy, prompts, name, model_type, params, tags, step, model_id, **kwargs)\u001B[39m\n\u001B[32m   1299\u001B[39m     \u001B[38;5;66;03m# mlflow_model is updated, rewrite the MLmodel file\u001B[39;00m\n\u001B[32m   1300\u001B[39m     mlflow_model.save(os.path.join(local_path, MLMODEL_FILE_NAME))\n\u001B[32m-> \u001B[39m\u001B[32m1302\u001B[39m \u001B[43mclient\u001B[49m\u001B[43m.\u001B[49m\u001B[43mlog_model_artifacts\u001B[49m\u001B[43m(\u001B[49m\u001B[43mmodel\u001B[49m\u001B[43m.\u001B[49m\u001B[43mmodel_id\u001B[49m\u001B[43m,\u001B[49m\u001B[43m \u001B[49m\u001B[43mlocal_path\u001B[49m\u001B[43m)\u001B[49m\n\u001B[32m   1303\u001B[39m \u001B[38;5;66;03m# If the model was previously identified as external, delete the tag because\u001B[39;00m\n\u001B[32m   1304\u001B[39m \u001B[38;5;66;03m# the model now has artifacts in MLflow Model format\u001B[39;00m\n\u001B[32m   1305\u001B[39m \u001B[38;5;28;01mif\u001B[39;00m model.tags.get(MLFLOW_MODEL_IS_EXTERNAL, \u001B[33m\"\u001B[39m\u001B[33mfalse\u001B[39m\u001B[33m\"\u001B[39m).lower() == \u001B[33m\"\u001B[39m\u001B[33mtrue\u001B[39m\u001B[33m\"\u001B[39m:\n",
      "\u001B[36mFile \u001B[39m\u001B[32m~\\miniconda3\\envs\\web-attack-regconization\\Lib\\site-packages\\mlflow\\tracking\\client.py:5589\u001B[39m, in \u001B[36mMlflowClient.log_model_artifacts\u001B[39m\u001B[34m(self, model_id, local_dir)\u001B[39m\n\u001B[32m   5578\u001B[39m \u001B[38;5;28;01mdef\u001B[39;00m\u001B[38;5;250m \u001B[39m\u001B[34mlog_model_artifacts\u001B[39m(\u001B[38;5;28mself\u001B[39m, model_id: \u001B[38;5;28mstr\u001B[39m, local_dir: \u001B[38;5;28mstr\u001B[39m) -> \u001B[38;5;28;01mNone\u001B[39;00m:\n\u001B[32m   5579\u001B[39m \u001B[38;5;250m    \u001B[39m\u001B[33;03m\"\"\"\u001B[39;00m\n\u001B[32m   5580\u001B[39m \u001B[33;03m    Upload a set of artifacts to the specified logged model.\u001B[39;00m\n\u001B[32m   5581\u001B[39m \n\u001B[32m   (...)\u001B[39m\u001B[32m   5587\u001B[39m \u001B[33;03m        None\u001B[39;00m\n\u001B[32m   5588\u001B[39m \u001B[33;03m    \"\"\"\u001B[39;00m\n\u001B[32m-> \u001B[39m\u001B[32m5589\u001B[39m     \u001B[38;5;28;01mreturn\u001B[39;00m \u001B[38;5;28;43mself\u001B[39;49m\u001B[43m.\u001B[49m\u001B[43m_tracking_client\u001B[49m\u001B[43m.\u001B[49m\u001B[43mlog_model_artifacts\u001B[49m\u001B[43m(\u001B[49m\u001B[43mmodel_id\u001B[49m\u001B[43m,\u001B[49m\u001B[43m \u001B[49m\u001B[43mlocal_dir\u001B[49m\u001B[43m)\u001B[49m\n",
      "\u001B[36mFile \u001B[39m\u001B[32m~\\miniconda3\\envs\\web-attack-regconization\\Lib\\site-packages\\mlflow\\tracking\\_tracking_service\\client.py:910\u001B[39m, in \u001B[36mTrackingServiceClient.log_model_artifacts\u001B[39m\u001B[34m(self, model_id, local_dir)\u001B[39m\n\u001B[32m    909\u001B[39m \u001B[38;5;28;01mdef\u001B[39;00m\u001B[38;5;250m \u001B[39m\u001B[34mlog_model_artifacts\u001B[39m(\u001B[38;5;28mself\u001B[39m, model_id: \u001B[38;5;28mstr\u001B[39m, local_dir: \u001B[38;5;28mstr\u001B[39m) -> \u001B[38;5;28;01mNone\u001B[39;00m:\n\u001B[32m--> \u001B[39m\u001B[32m910\u001B[39m     \u001B[38;5;28;43mself\u001B[39;49m\u001B[43m.\u001B[49m\u001B[43m_get_artifact_repo\u001B[49m\u001B[43m(\u001B[49m\u001B[43mmodel_id\u001B[49m\u001B[43m,\u001B[49m\u001B[43m \u001B[49m\u001B[43mresource\u001B[49m\u001B[43m=\u001B[49m\u001B[33;43m\"\u001B[39;49m\u001B[33;43mlogged_model\u001B[39;49m\u001B[33;43m\"\u001B[39;49m\u001B[43m)\u001B[49m\u001B[43m.\u001B[49m\u001B[43mlog_artifacts\u001B[49m\u001B[43m(\u001B[49m\u001B[43mlocal_dir\u001B[49m\u001B[43m)\u001B[49m\n",
      "\u001B[36mFile \u001B[39m\u001B[32m~\\miniconda3\\envs\\web-attack-regconization\\Lib\\site-packages\\mlflow\\store\\artifact\\http_artifact_repo.py:80\u001B[39m, in \u001B[36mHttpArtifactRepository.log_artifacts\u001B[39m\u001B[34m(self, local_dir, artifact_path)\u001B[39m\n\u001B[32m     76\u001B[39m     artifact_dir = (\n\u001B[32m     77\u001B[39m         posixpath.join(artifact_path, rel_path) \u001B[38;5;28;01mif\u001B[39;00m artifact_path \u001B[38;5;28;01melse\u001B[39;00m rel_path\n\u001B[32m     78\u001B[39m     )\n\u001B[32m     79\u001B[39m \u001B[38;5;28;01mfor\u001B[39;00m f \u001B[38;5;129;01min\u001B[39;00m filenames:\n\u001B[32m---> \u001B[39m\u001B[32m80\u001B[39m     \u001B[38;5;28;43mself\u001B[39;49m\u001B[43m.\u001B[49m\u001B[43mlog_artifact\u001B[49m\u001B[43m(\u001B[49m\u001B[43mos\u001B[49m\u001B[43m.\u001B[49m\u001B[43mpath\u001B[49m\u001B[43m.\u001B[49m\u001B[43mjoin\u001B[49m\u001B[43m(\u001B[49m\u001B[43mroot\u001B[49m\u001B[43m,\u001B[49m\u001B[43m \u001B[49m\u001B[43mf\u001B[49m\u001B[43m)\u001B[49m\u001B[43m,\u001B[49m\u001B[43m \u001B[49m\u001B[43martifact_dir\u001B[49m\u001B[43m)\u001B[49m\n",
      "\u001B[36mFile \u001B[39m\u001B[32m~\\miniconda3\\envs\\web-attack-regconization\\Lib\\site-packages\\mlflow\\store\\artifact\\http_artifact_repo.py:63\u001B[39m, in \u001B[36mHttpArtifactRepository.log_artifact\u001B[39m\u001B[34m(self, local_file, artifact_path)\u001B[39m\n\u001B[32m     61\u001B[39m extra_headers = {\u001B[33m\"\u001B[39m\u001B[33mContent-Type\u001B[39m\u001B[33m\"\u001B[39m: mime_type}\n\u001B[32m     62\u001B[39m \u001B[38;5;28;01mwith\u001B[39;00m \u001B[38;5;28mopen\u001B[39m(local_file, \u001B[33m\"\u001B[39m\u001B[33mrb\u001B[39m\u001B[33m\"\u001B[39m) \u001B[38;5;28;01mas\u001B[39;00m f:\n\u001B[32m---> \u001B[39m\u001B[32m63\u001B[39m     resp = \u001B[43mhttp_request\u001B[49m\u001B[43m(\u001B[49m\n\u001B[32m     64\u001B[39m \u001B[43m        \u001B[49m\u001B[38;5;28;43mself\u001B[39;49m\u001B[43m.\u001B[49m\u001B[43m_host_creds\u001B[49m\u001B[43m,\u001B[49m\u001B[43m \u001B[49m\u001B[43mendpoint\u001B[49m\u001B[43m,\u001B[49m\u001B[43m \u001B[49m\u001B[33;43m\"\u001B[39;49m\u001B[33;43mPUT\u001B[39;49m\u001B[33;43m\"\u001B[39;49m\u001B[43m,\u001B[49m\u001B[43m \u001B[49m\u001B[43mdata\u001B[49m\u001B[43m=\u001B[49m\u001B[43mf\u001B[49m\u001B[43m,\u001B[49m\u001B[43m \u001B[49m\u001B[43mextra_headers\u001B[49m\u001B[43m=\u001B[49m\u001B[43mextra_headers\u001B[49m\n\u001B[32m     65\u001B[39m \u001B[43m    \u001B[49m\u001B[43m)\u001B[49m\n\u001B[32m     66\u001B[39m     augmented_raise_for_status(resp)\n",
      "\u001B[36mFile \u001B[39m\u001B[32m~\\miniconda3\\envs\\web-attack-regconization\\Lib\\site-packages\\mlflow\\utils\\rest_utils.py:253\u001B[39m, in \u001B[36mhttp_request\u001B[39m\u001B[34m(host_creds, endpoint, method, max_retries, backoff_factor, backoff_jitter, extra_headers, retry_codes, timeout, raise_on_status, respect_retry_after_header, retry_timeout_seconds, **kwargs)\u001B[39m\n\u001B[32m    251\u001B[39m     \u001B[38;5;28;01mraise\u001B[39;00m InvalidUrlException(\u001B[33mf\u001B[39m\u001B[33m\"\u001B[39m\u001B[33mInvalid url: \u001B[39m\u001B[38;5;132;01m{\u001B[39;00murl\u001B[38;5;132;01m}\u001B[39;00m\u001B[33m\"\u001B[39m) \u001B[38;5;28;01mfrom\u001B[39;00m\u001B[38;5;250m \u001B[39m\u001B[34;01miu\u001B[39;00m\n\u001B[32m    252\u001B[39m \u001B[38;5;28;01mexcept\u001B[39;00m \u001B[38;5;167;01mException\u001B[39;00m \u001B[38;5;28;01mas\u001B[39;00m e:\n\u001B[32m--> \u001B[39m\u001B[32m253\u001B[39m     \u001B[38;5;28;01mraise\u001B[39;00m MlflowException(\u001B[33mf\u001B[39m\u001B[33m\"\u001B[39m\u001B[33mAPI request to \u001B[39m\u001B[38;5;132;01m{\u001B[39;00murl\u001B[38;5;132;01m}\u001B[39;00m\u001B[33m failed with exception \u001B[39m\u001B[38;5;132;01m{\u001B[39;00me\u001B[38;5;132;01m}\u001B[39;00m\u001B[33m\"\u001B[39m)\n",
      "\u001B[31mMlflowException\u001B[39m: API request to http://127.0.0.1:5000/api/2.0/mlflow-artifacts/artifacts/0/models/m-fc4de28e81294a4d8b5b9d93cdee998c/artifacts/conda.yaml failed with exception HTTPConnectionPool(host='127.0.0.1', port=5000): Max retries exceeded with url: /api/2.0/mlflow-artifacts/artifacts/0/models/m-fc4de28e81294a4d8b5b9d93cdee998c/artifacts/conda.yaml (Caused by ResponseError('too many 500 error responses'))"
     ]
    }
   ],
   "execution_count": 7
  },
  {
   "metadata": {},
   "cell_type": "code",
   "outputs": [],
   "execution_count": null,
   "source": [
    "label_to_number = {\n",
    "    \"benign\": 0,\n",
    "    \"dirb\": 1,\n",
    "    \"wpscan\": 2,\n",
    "    \"service_scans\": 3,\n",
    "    \"network_scans\": 4,\n",
    "    \"privilege_escalation\": 5,\n",
    "    \"dnsteal\": 6,\n",
    "    \"reverse_shell\": 7,\n",
    "    \"service_stop\": 8,\n",
    "    \"webshell\": 9,\n",
    "    \"cracking\": 10\n",
    "}"
   ],
   "id": "9330c248ed47296"
  }
 ],
 "metadata": {
  "kernelspec": {
   "display_name": "Python 3",
   "language": "python",
   "name": "python3"
  },
  "language_info": {
   "codemirror_mode": {
    "name": "ipython",
    "version": 2
   },
   "file_extension": ".py",
   "mimetype": "text/x-python",
   "name": "python",
   "nbconvert_exporter": "python",
   "pygments_lexer": "ipython2",
   "version": "2.7.6"
  }
 },
 "nbformat": 4,
 "nbformat_minor": 5
}
